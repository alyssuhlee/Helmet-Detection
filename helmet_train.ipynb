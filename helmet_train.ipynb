{
 "cells": [
  {
   "cell_type": "code",
   "execution_count": 7,
   "metadata": {},
   "outputs": [],
   "source": [
    "import os\n",
    "import cv2 as cv\n",
    "import matplotlib.pyplot as plt"
   ]
  },
  {
   "cell_type": "code",
   "execution_count": 8,
   "metadata": {},
   "outputs": [],
   "source": [
    "# Load Folders in data_train\n",
    "#basis ng pics na gin use for training\n",
    "data_train_dir = [dir for dir in os.listdir(\"./data_train/\")]"
   ]
  },
  {
   "cell_type": "code",
   "execution_count": 9,
   "metadata": {},
   "outputs": [],
   "source": [
    "def preprocessing(img):\n",
    "    # convert to grayscale\n",
    "    preprocessed_img = cv.cvtColor(img, cv.COLOR_BGR2GRAY)\n",
    "    # apply gaussian blur\n",
    "    preprocessed_img = cv.GaussianBlur(preprocessed_img, (5,5), 0)\n",
    "    # apply Canny Edge\n",
    "    preprocessed_img = cv.Canny(image=preprocessed_img, threshold1=50, threshold2=150)\n",
    "    return preprocessed_img"
   ]
  },
  {
   "cell_type": "code",
   "execution_count": 10,
   "metadata": {},
   "outputs": [],
   "source": [
    "helmetLabels = [\n",
    "    \"DHelmetP1Helmet\",\n",
    "    \"DHelmet\",\n",
    "    \"DHelmetP1HelmetP2Helmet\",\n",
    "    \"DHelmetP0Helmet\",\n",
    "    \"DHelmetP0HelmetP1HelmetP2Helmet\",\n",
    "    \"DHelmetP0HelmetP1Helmet\"\n",
    "]"
   ]
  },
  {
   "cell_type": "code",
   "execution_count": 11,
   "metadata": {},
   "outputs": [],
   "source": [
    "os.makedirs(\"./Helmet/\", exist_ok=True)\n",
    "os.makedirs(\"./NoHelmet/\", exist_ok=True)"
   ]
  },
  {
   "cell_type": "code",
   "execution_count": 12,
   "metadata": {},
   "outputs": [],
   "source": [
    "data_counter = 0\n",
    "#video_dir = Ex. Bago_highway_1.csv\n",
    "#frame = images\n",
    "for video_dir in range(len(data_train_dir)):\n",
    "    for frame in range(100):\n",
    "    # Loading sample image\n",
    "        img_dir = [i for i in sorted(os.listdir(f\"./data_train/{data_train_dir[video_dir]}\"))]\n",
    "        img_path = f\"./data_train/{data_train_dir[video_dir]}/{img_dir[frame]}\"\n",
    "        img = cv.imread(img_path)\n",
    "        \n",
    "\n",
    "        # Create a bounding boxes based on annotations file\n",
    "        boxes_lists = []\n",
    "        label_texts = []\n",
    "        annotation_file = f\"./annotations/{data_train_dir[video_dir]}.csv\"\n",
    "\n",
    "        with open (annotation_file, \"r\") as x:\n",
    "            for lines in x.readlines():\n",
    "                temp = lines.split(\",\")\n",
    "                try:\n",
    "                    if int(temp[1]) == frame:\n",
    "                        #based sa mga csv files\n",
    "                        box = (int(temp[2]), int(temp[3]), int(temp[4]), int(temp[5]))\n",
    "                        boxes_lists.append(box)\n",
    "                        #last\n",
    "                        label = str(temp[-1])[:-1]\n",
    "                        label_texts.append(label)\n",
    "                except:\n",
    "                    pass\n",
    "\n",
    "        for i in range(len(boxes_lists)):\n",
    "            # Crop the images based on bounding boxes (x, y, w, h)\n",
    "            temp_img = img.copy()\n",
    "            temp_img = preprocessing(temp_img)\n",
    "            #region ng box based sa x, y, w, h\n",
    "            #[y:y+h, x:x+w] - region na ikwaon sa buong frame\n",
    "            crop_img = temp_img[boxes_lists[i][1]:boxes_lists[i][1]+boxes_lists[i][3], boxes_lists[i][0]:boxes_lists[i][0]+boxes_lists[i][2]]\n",
    "\n",
    "            if label_texts[i] in helmetLabels:\n",
    "                cv.imwrite(f\"./Helmet/img{data_counter}.jpg\", crop_img)\n",
    "            cv.imwrite(f\"./NoHelmet/img{data_counter}.jpg\", crop_img)\n",
    "#Train the images inside Helmet and NoHelmet folders sa Teachable Machine with (epoch 50, batch size 16)\n",
    "#tried other epochs such as epoch 200 - overfitting happens"
   ]
  }
 ],
 "metadata": {
  "kernelspec": {
   "display_name": "Python 3",
   "language": "python",
   "name": "python3"
  },
  "language_info": {
   "codemirror_mode": {
    "name": "ipython",
    "version": 3
   },
   "file_extension": ".py",
   "mimetype": "text/x-python",
   "name": "python",
   "nbconvert_exporter": "python",
   "pygments_lexer": "ipython3",
   "version": "3.10.8"
  },
  "orig_nbformat": 4
 },
 "nbformat": 4,
 "nbformat_minor": 2
}
