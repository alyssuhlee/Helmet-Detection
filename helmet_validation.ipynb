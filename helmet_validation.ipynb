{
 "cells": [
  {
   "cell_type": "code",
   "execution_count": 27,
   "metadata": {},
   "outputs": [],
   "source": [
    "import os\n",
    "import cv2 as cv\n",
    "import matplotlib.pyplot as plt"
   ]
  },
  {
   "cell_type": "code",
   "execution_count": 28,
   "metadata": {},
   "outputs": [],
   "source": [
    "def preprocessing(img):\n",
    "    # convert to grayscale\n",
    "    preprocessed_img = cv.cvtColor(img, cv.COLOR_BGR2GRAY)\n",
    "    # apply gaussian blur\n",
    "    preprocessed_img = cv.GaussianBlur(preprocessed_img, (5,5), 0)\n",
    "    # apply Canny Edge\n",
    "    preprocessed_img = cv.Canny(image=preprocessed_img, threshold1=25, threshold2=150)\n",
    "    return preprocessed_img"
   ]
  },
  {
   "cell_type": "code",
   "execution_count": 29,
   "metadata": {},
   "outputs": [],
   "source": [
    "# Load Folders in data_test\n",
    "#data_test = for the validation and tracking\n",
    "data_test_dir = [dir for dir in os.listdir(\"./data_test/\")]"
   ]
  },
  {
   "cell_type": "code",
   "execution_count": 30,
   "metadata": {},
   "outputs": [],
   "source": [
    "helmetLabels = [\n",
    "    \"DHelmetP1Helmet\",\n",
    "    \"DHelmet\",\n",
    "    \"DHelmetP1HelmetP2Helmet\",\n",
    "    \"DHelmetP0Helmet\",\n",
    "    \"DHelmetP0HelmetP1HelmetP2Helmet\",\n",
    "    \"DHelmetP0HelmetP1Helmet\"\n",
    "]"
   ]
  },
  {
   "cell_type": "code",
   "execution_count": 31,
   "metadata": {},
   "outputs": [],
   "source": [
    "os.makedirs(\"./Helmet_test/\", exist_ok=True)\n",
    "os.makedirs(\"./NoHelmet_test/\", exist_ok=True)"
   ]
  },
  {
   "cell_type": "code",
   "execution_count": 32,
   "metadata": {},
   "outputs": [],
   "source": [
    "data_counter = 0\n",
    "for video_dir in range(len(data_test_dir)):\n",
    "    for frame in range(100):\n",
    "    # Loading sample image\n",
    "        img_dir = [i for i in sorted(os.listdir(f\"./data_test/{data_test_dir[video_dir]}\"))]\n",
    "        img_path = f\"./data_test/{data_test_dir[video_dir]}/{img_dir[frame]}\"\n",
    "        img = cv.imread(img_path)\n",
    "\n",
    "        # Create a bounding boxes based on annotations file\n",
    "        boxes_lists = []\n",
    "        label_texts = []\n",
    "        annotation_file = f\"./annotations/{data_test_dir[video_dir]}.csv\"\n",
    "\n",
    "        with open (annotation_file, \"r\") as x:\n",
    "            for lines in x.readlines():\n",
    "                temp = lines.split(\",\")\n",
    "                try:\n",
    "                    if int(temp[1]) == frame:\n",
    "                        box = (int(temp[2]), int(temp[3]), int(temp[4]), int(temp[5]))\n",
    "                        boxes_lists.append(box)\n",
    "\n",
    "                        label = str(temp[-1])[:-1]\n",
    "                        label_texts.append(label)\n",
    "                except:\n",
    "                    pass\n",
    "\n",
    "\n",
    "        for i in range(len(boxes_lists)):\n",
    "            # Crop the images based on bounding boxes (x, y, w, h)\n",
    "            temp_img = img.copy()\n",
    "            crop_img = temp_img[boxes_lists[i][1]:boxes_lists[i][1]+boxes_lists[i][3], boxes_lists[i][0]:boxes_lists[i][0]+boxes_lists[i][2]]\n",
    "            processed_img = preprocessing(crop_img)\n",
    "\n",
    "            if label_texts[i] in helmetLabels:\n",
    "                #for validation, preprocessed na ang frames so that faster pag predict\n",
    "                cv.imwrite(f\"./Helmet_test/img{data_counter}.jpg\", processed_img)\n",
    "            cv.imwrite(f\"./NoHelmet_test/img{data_counter}.jpg\", processed_img)\n",
    "            data_counter += 1"
   ]
  },
  {
   "cell_type": "code",
   "execution_count": 33,
   "metadata": {},
   "outputs": [],
   "source": [
    "from keras.models import load_model\n",
    "import numpy as np"
   ]
  },
  {
   "cell_type": "code",
   "execution_count": 34,
   "metadata": {},
   "outputs": [],
   "source": [
    "np.set_printoptions(suppress=True)\n",
    "\n",
    "# Load the model and labels\n",
    "model = load_model(\"keras_Model.h5\", compile=False)\n",
    "class_names = open(\"labels.txt\", \"r\").readlines()"
   ]
  },
  {
   "cell_type": "code",
   "execution_count": 35,
   "metadata": {},
   "outputs": [],
   "source": [
    "# Checking Accuracy for Helmet Images\n",
    "\n",
    "helmet_test_files = [img for img in os.listdir(\"./Helmet_test/\")]\n",
    "helmet_score = 0\n",
    "\n",
    "for item in helmet_test_files:\n",
    "    # open the image\n",
    "    img = cv.imread(f\"./Helmet_test/{item}\")\n",
    "    img_crop = cv.resize(img, (224, 224), interpolation=cv.INTER_AREA)\n",
    "    # Run the model and get the prediction\n",
    "    img_crop = np.asarray(img_crop, dtype=np.float32).reshape(1, 224, 224, 3)\n",
    "    img_toPred = (img_crop / 127.5) - 1\n",
    "    prediction = model.predict(img_toPred, verbose=0)\n",
    "    index = np.argmax(prediction)\n",
    "    class_name = int(class_names[index][0])\n",
    "    if class_name == 0:\n",
    "        helmet_score += 1"
   ]
  },
  {
   "cell_type": "code",
   "execution_count": 36,
   "metadata": {},
   "outputs": [
    {
     "name": "stdout",
     "output_type": "stream",
     "text": [
      "Helmet Score: 91\n",
      "Total Images: 723\n",
      "\n",
      "Accuracy: 12.586445366528354%\n"
     ]
    }
   ],
   "source": [
    "print(f\"Helmet Score: {helmet_score}\\nTotal Images: {len(helmet_test_files)}\\n\")\n",
    "print(f\"Accuracy: {(helmet_score / len(helmet_test_files)) * 100}%\")"
   ]
  },
  {
   "cell_type": "code",
   "execution_count": 37,
   "metadata": {},
   "outputs": [],
   "source": [
    "# Checking Accuracy for NoHelmet Images\n",
    "\n",
    "NoHelmet_test_files = [img for img in os.listdir(\"./NoHelmet_test/\")]\n",
    "NoHelmet_score = 0\n",
    "for item in NoHelmet_test_files:\n",
    "    # open the image\n",
    "    img = cv.imread(f\"./NoHelmet_test/{item}\")\n",
    "    img_crop = cv.resize(img, (224, 224), interpolation=cv.INTER_AREA)\n",
    "    # Run the model and get the prediction\n",
    "    img_crop = np.asarray(img_crop, dtype=np.float32).reshape(1, 224, 224, 3)\n",
    "    img_toPred = (img_crop / 127.5) - 1\n",
    "    prediction = model.predict(img_toPred, verbose=0)\n",
    "    index = np.argmax(prediction)\n",
    "    class_name = int(class_names[index][0])\n",
    "    if class_name == 1:\n",
    "        NoHelmet_score += 1"
   ]
  },
  {
   "cell_type": "code",
   "execution_count": 38,
   "metadata": {},
   "outputs": [
    {
     "name": "stdout",
     "output_type": "stream",
     "text": [
      "NoHelmet Score: 1684\n",
      "Total Images: 1800\n",
      "\n",
      "Accuracy: 93.55555555555556%\n"
     ]
    }
   ],
   "source": [
    "print(f\"NoHelmet Score: {NoHelmet_score}\\nTotal Images: {len(NoHelmet_test_files)}\\n\")\n",
    "print(f\"Accuracy: {(NoHelmet_score / len(NoHelmet_test_files)) * 100}%\")"
   ]
  },
  {
   "cell_type": "code",
   "execution_count": 39,
   "metadata": {},
   "outputs": [
    {
     "name": "stdout",
     "output_type": "stream",
     "text": [
      "Accuracy: 70.35275465715418%\n"
     ]
    }
   ],
   "source": [
    "# Calculating for Total Accuracy\n",
    "total_score = helmet_score + NoHelmet_score\n",
    "total_test_files = len(helmet_test_files) + len(NoHelmet_test_files)\n",
    "\n",
    "accuracy = (total_score/total_test_files) * 100\n",
    "print(f\"Accuracy: {accuracy}%\")"
   ]
  }
 ],
 "metadata": {
  "kernelspec": {
   "display_name": "Python 3",
   "language": "python",
   "name": "python3"
  },
  "language_info": {
   "codemirror_mode": {
    "name": "ipython",
    "version": 3
   },
   "file_extension": ".py",
   "mimetype": "text/x-python",
   "name": "python",
   "nbconvert_exporter": "python",
   "pygments_lexer": "ipython3",
   "version": "3.10.8"
  },
  "orig_nbformat": 4
 },
 "nbformat": 4,
 "nbformat_minor": 2
}
