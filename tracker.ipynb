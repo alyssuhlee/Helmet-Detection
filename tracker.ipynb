{
 "cells": [
  {
   "cell_type": "code",
   "execution_count": 5,
   "metadata": {},
   "outputs": [],
   "source": [
    "from keras.models import load_model\n",
    "import cv2 as cv\n",
    "import numpy as np\n",
    "import os"
   ]
  },
  {
   "cell_type": "code",
   "execution_count": 6,
   "metadata": {},
   "outputs": [],
   "source": [
    "# Load Folders in data_test\n",
    "data_test_dir = [dir for dir in os.listdir(\"./data_test/\")]"
   ]
  },
  {
   "cell_type": "code",
   "execution_count": 7,
   "metadata": {},
   "outputs": [],
   "source": [
    "np.set_printoptions(suppress=True)\n",
    "\n",
    "# Load the model and labels\n",
    "model = load_model(\"keras_Model.h5\", compile=False)\n",
    "class_names = open(\"labels.txt\", \"r\").readlines()"
   ]
  },
  {
   "cell_type": "code",
   "execution_count": 8,
   "metadata": {},
   "outputs": [],
   "source": [
    "stop = False\n",
    "for video_dir in range(len(data_test_dir)):\n",
    "    if stop:\n",
    "        break\n",
    "    for frame in range(100): \n",
    "    # Loading sample image\n",
    "        img_dir = [i for i in sorted(os.listdir(f\"./data_test/{data_test_dir[video_dir]}\"))]\n",
    "        img_path = f\"./data_test/{data_test_dir[video_dir]}/{img_dir[frame]}\"\n",
    "        img = cv.imread(img_path)\n",
    "\n",
    "        # Create a bounding boxes based on annotations file\n",
    "        boxes_lists = []\n",
    "        label_texts = []\n",
    "        annotation_file = f\"./annotations/{data_test_dir[video_dir]}.csv\"\n",
    "\n",
    "        with open (annotation_file, \"r\") as x:\n",
    "            for lines in x.readlines():\n",
    "                temp = lines.split(\",\")\n",
    "                try:\n",
    "                    if int(temp[1]) == frame:\n",
    "                        box = (int(temp[2]), int(temp[3]), int(temp[4]), int(temp[5]))\n",
    "                        boxes_lists.append(box)\n",
    "\n",
    "                        # Run the model and get the prediction\n",
    "                        temp_img = img.copy()\n",
    "                        img_crop = temp_img[box[1]:box[1]+box[3], box[0]:box[0]+box[2]]\n",
    "                        gray_img = cv.cvtColor(img_crop, cv.COLOR_BGR2GRAY)\n",
    "                        # apply gaussian blur\n",
    "                        gauss_img = cv.GaussianBlur(gray_img, (5,5), 0)\n",
    "                        # apply Canny Edge\n",
    "                        proc_img = cv.Canny(image=gauss_img, threshold1=25, threshold2=150)\n",
    "                        #Resize\n",
    "                        img_res = cv.resize(proc_img, (224, 224), interpolation=cv.INTER_AREA)\n",
    "                        #For normalization\n",
    "                        img_norm = np.asarray(img_res, dtype=np.float32)\n",
    "                        img_norm = np.expand_dims(img_norm, axis=-1)\n",
    "                        img_norm = np.repeat(img_norm, 3, axis=-1)\n",
    "                        img_norm = img_norm.reshape(1, 224, 224, 3)\n",
    "                        img_toPred = (img_norm / 127.5) - 1\n",
    "                        #predicts className and confidence score\n",
    "                        prediction = model.predict(img_toPred, verbose=0)\n",
    "                        index = np.argmax(prediction)\n",
    "                        class_name = class_names[index]\n",
    "                        confidence_score = prediction[0][index] #how sure na correct ang className\n",
    "                        label = f\"{class_name[2:-1]}@{confidence_score*100:.2f}%\"\n",
    "                        label_texts.append(label)\n",
    "                except Exception as e:\n",
    "                    pass\n",
    "\n",
    "        for i in range(len(boxes_lists)):\n",
    "            #BB with text\n",
    "            cv.rectangle(img, boxes_lists[i], (0,0,255), 2)\n",
    "            cv.putText(img, label_texts[i], (boxes_lists[i][0], boxes_lists[i][1]), cv.FONT_HERSHEY_SIMPLEX, 1, (0, 255, 0), 2, cv.LINE_AA)\n",
    "\n",
    "        img_rescaled = cv.resize(img, (1280, 720))\n",
    "\n",
    "        cv.imshow(\"test_img\", img_rescaled)\n",
    "        key = cv.waitKey(20)\n",
    "        if key == 27:\n",
    "            stop = True\n",
    "            break\n",
    "        elif key == 48:\n",
    "            break\n",
    "\n",
    "cv.destroyAllWindows()"
   ]
  }
 ],
 "metadata": {
  "kernelspec": {
   "display_name": "Python 3",
   "language": "python",
   "name": "python3"
  },
  "language_info": {
   "codemirror_mode": {
    "name": "ipython",
    "version": 3
   },
   "file_extension": ".py",
   "mimetype": "text/x-python",
   "name": "python",
   "nbconvert_exporter": "python",
   "pygments_lexer": "ipython3",
   "version": "3.10.8"
  },
  "orig_nbformat": 4
 },
 "nbformat": 4,
 "nbformat_minor": 2
}
